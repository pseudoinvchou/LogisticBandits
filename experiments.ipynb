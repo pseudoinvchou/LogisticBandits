{
 "cells": [
  {
   "cell_type": "code",
   "execution_count": 1,
   "metadata": {
    "id": "kZCWXtxPvXwL"
   },
   "outputs": [],
   "source": [
    "from main import *"
   ]
  },
  {
   "cell_type": "code",
   "execution_count": 2,
   "metadata": {
    "colab": {
     "base_uri": "https://localhost:8080/"
    },
    "executionInfo": {
     "elapsed": 2150473,
     "status": "ok",
     "timestamp": 1635745872270,
     "user": {
      "displayName": "Shuai Liu",
      "photoUrl": "https://lh3.googleusercontent.com/a-/AOh14GhfgffUo7EQW50ziyjVxFqAxCtn_ZTBevlMigaj=s64",
      "userId": "06459091910592640128"
     },
     "user_tz": 360
    },
    "id": "8YwpjIvavk2e",
    "outputId": "13bab20c-c09a-4daa-9b21-40297ffda3bd"
   },
   "outputs": [
    {
     "name": "stdout",
     "output_type": "stream",
     "text": [
      "dataset generated! kappa=4.050600547544972\n",
      "step 0!\n",
      "step 5000!\n",
      "step 10000!\n",
      "step 15000!\n",
      "step 20000!\n",
      "step 25000!\n",
      "step 30000!\n",
      "step 35000!\n",
      "step 40000!\n",
      "step 45000!\n"
     ]
    }
   ],
   "source": [
    "regret = GLM_TSL_new(horizon=50000)"
   ]
  },
  {
   "cell_type": "code",
   "execution_count": 7,
   "metadata": {
    "colab": {
     "base_uri": "https://localhost:8080/",
     "height": 456
    },
    "executionInfo": {
     "elapsed": 536,
     "status": "ok",
     "timestamp": 1635746012018,
     "user": {
      "displayName": "Shuai Liu",
      "photoUrl": "https://lh3.googleusercontent.com/a-/AOh14GhfgffUo7EQW50ziyjVxFqAxCtn_ZTBevlMigaj=s64",
      "userId": "06459091910592640128"
     },
     "user_tz": 360
    },
    "id": "Qk0Poap-vnli",
    "outputId": "cb49ed95-2a29-4adf-9a3e-5cc2d9d00109"
   },
   "outputs": [
    {
     "data": {
      "text/plain": [
       "[<matplotlib.lines.Line2D at 0x12ac22670>]"
      ]
     },
     "execution_count": 7,
     "metadata": {},
     "output_type": "execute_result"
    },
    {
     "data": {
      "image/png": "[encoded data removed]",
      "text/plain": [
       "<Figure size 864x360 with 1 Axes>"
      ]
     },
     "metadata": {
      "needs_background": "light"
     },
     "output_type": "display_data"
    }
   ],
   "source": [
    "import matplotlib.pyplot as plt\n",
    "plt.figure(figsize=(12,5))\n",
    "plt.plot(range(len(regret)), regret)"
   ]
  },
  {
   "cell_type": "code",
   "execution_count": null,
   "metadata": {
    "id": "D1lBMQWkvt4q"
   },
   "outputs": [],
   "source": []
  },
  {
   "cell_type": "code",
   "execution_count": 6,
   "metadata": {
    "colab": {
     "base_uri": "https://localhost:8080/"
    },
    "executionInfo": {
     "elapsed": 22889,
     "status": "ok",
     "timestamp": 1635746137764,
     "user": {
      "displayName": "Shuai Liu",
      "photoUrl": "https://lh3.googleusercontent.com/a-/AOh14GhfgffUo7EQW50ziyjVxFqAxCtn_ZTBevlMigaj=s64",
      "userId": "06459091910592640128"
     },
     "user_tz": 360
    },
    "id": "SE7kQNh3EMv9",
    "outputId": "ced5bb63-5f8c-46af-b9f4-8f53426ef59b"
   },
   "outputs": [
    {
     "name": "stdout",
     "output_type": "stream",
     "text": [
      "Mounted at /content/drive\n"
     ]
    }
   ],
   "source": [
    "from google.colab import drive\n",
    "drive.mount('/content/drive')"
   ]
  },
  {
   "cell_type": "code",
   "execution_count": null,
   "metadata": {
    "id": "WyjE1fvIEOxx"
   },
   "outputs": [],
   "source": []
  }
 ],
 "metadata": {
  "colab": {
   "authorship_tag": "ABX9TyN08fDoQC6g+Io//Pc2xo/y",
   "name": "Untitled1.ipynb",
   "provenance": []
  },
  "kernelspec": {
   "display_name": "Python 3",
   "language": "python",
   "name": "python3"
  },
  "language_info": {
   "codemirror_mode": {
    "name": "ipython",
    "version": 3
   },
   "file_extension": ".py",
   "mimetype": "text/x-python",
   "name": "python",
   "nbconvert_exporter": "python",
   "pygments_lexer": "ipython3",
   "version": "3.9.1"
  }
 },
 "nbformat": 4,
 "nbformat_minor": 1
}
