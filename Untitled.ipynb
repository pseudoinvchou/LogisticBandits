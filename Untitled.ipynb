{
 "cells": [
  {
   "cell_type": "code",
   "execution_count": 86,
   "metadata": {},
   "outputs": [],
   "source": [
    "import numpy as np\n",
    "import sklearn.linear_model as linear_model\n",
    "import time"
   ]
  },
  {
   "cell_type": "code",
   "execution_count": 18,
   "metadata": {},
   "outputs": [],
   "source": [
    "def elements(array):\n",
    "    return array.ndim and array.size"
   ]
  },
  {
   "cell_type": "code",
   "execution_count": 19,
   "metadata": {},
   "outputs": [],
   "source": [
    "def sigmoid(x):\n",
    "    return 1/(1+np.exp(-x))"
   ]
  },
  {
   "cell_type": "code",
   "execution_count": 137,
   "metadata": {},
   "outputs": [],
   "source": [
    "def generate_dataset(dim=5, max_arm=100):\n",
    "    theta_star = np.random.multivariate_normal(np.zeros(dim), 3/(dim)*np.eye(dim))\n",
    "    X=np.ones([max_arm, dim])\n",
    "    for i in range(max_arm):\n",
    "        X[i] = np.random.uniform(-1,1,dim)\n",
    "    return[X,theta_star]"
   ]
  },
  {
   "cell_type": "code",
   "execution_count": 45,
   "metadata": {},
   "outputs": [],
   "source": [
    "def solve_MLE(X,y,lam_inv=1):\n",
    "    model = linear_model.LogisticRegression(penalty='l2',C=lam_inv,fit_intercept=False,solver='newton-cg')\n",
    "    model.fit(X,y)\n",
    "    return model.coef_.reshape(-1)"
   ]
  },
  {
   "cell_type": "code",
   "execution_count": 22,
   "metadata": {},
   "outputs": [],
   "source": [
    "def get_constant(theta_star, lam, step, dim, delta):\n",
    "    S = np.linalg.norm(theta_star)\n",
    "    L = 1/4\n",
    "    gamma1 = S + (1/2)\n",
    "    gamma1 = np.sqrt(lam) * gamma1\n",
    "    gamma2 = (L*step)/(dim*lam)\n",
    "    gamma2 = gamma2+1\n",
    "    gamma2 = gamma2 ** (dim/2)\n",
    "    gamma2 = gamma2 * (2 ** dim)/delta\n",
    "    gamma2 = np.log(gamma2)\n",
    "    gamma2 = gamma2 * 2 / np.sqrt(lam)\n",
    "    gamma = gamma1 + gamma2\n",
    "    return gamma * 1 / (1+2*S)"
   ]
  },
  {
   "cell_type": "code",
   "execution_count": 42,
   "metadata": {},
   "outputs": [],
   "source": [
    "def warm_up(theta_star,X,mus,lam, delta):\n",
    "    dim = len(theta_star)\n",
    "    theta_t = np.random.multivariate_normal(np.zeros(dim), 3/(dim ** 2)*np.eye(dim))\n",
    "    y = []\n",
    "    H = np.eye(dim) * lam\n",
    "    history_x = np.array([])\n",
    "    step = 0\n",
    "    a = get_constant(theta_star, lam, step, len(theta_t), delta)\n",
    "    while(len(np.unique(y))<2):\n",
    "        step += 1\n",
    "        theta_tilde = np.random.multivariate_normal(theta_t, (a**2)*np.linalg.inv(H))\n",
    "        arm_pulled_idx = np.argmax(X @ theta_tilde)\n",
    "        arm_pulled = X[arm_pulled_idx].reshape(1,-1)# row vector\n",
    "        if elements(history_x) == 0:\n",
    "            history_x = arm_pulled\n",
    "        else:\n",
    "            history_x = np.concatenate([history_x,arm_pulled], axis=0)\n",
    "        H += (arm_pulled.T @ arm_pulled) \n",
    "        y.append(np.random.binomial(1,mus[arm_pulled_idx],1).item())\n",
    "        a = get_constant(theta_star, lam, step, dim, delta)\n",
    "    return[history_x, y, H]"
   ]
  },
  {
   "cell_type": "code",
   "execution_count": 78,
   "metadata": {},
   "outputs": [],
   "source": [
    "def cum_regret(record, mu_1, mu):\n",
    "    record.append(record[-1]+mu_1-mu)"
   ]
  },
  {
   "cell_type": "code",
   "execution_count": 109,
   "metadata": {},
   "outputs": [],
   "source": [
    "def GLM_TSL_new(X, theta_star, dim=5,max_arm=100,horizon=50000,lam=1):\n",
    "    mus = sigmoid(X@theta_star)\n",
    "    mu_1 = np.max(mus)\n",
    "    history_x,y,H = warm_up(theta_star, X, mus, 2*lam, 1/horizon)\n",
    "    offset = len(y)\n",
    "    record = [0]\n",
    "    last_time = time.time()\n",
    "    for i in range(horizon):\n",
    "        theta_bar = solve_MLE(history_x, y, 1/lam)\n",
    "        a = get_constant(theta_star, 2*lam, i+offset+1, dim, 1/horizon)\n",
    "        theta_tilde = np.random.multivariate_normal(theta_bar, a ** 2 * np.linalg.inv(H))\n",
    "        x_idx = np.argmax(X@theta_tilde.reshape(-1,1))\n",
    "        x_t = X[x_idx].reshape(1,-1) #row vector\n",
    "        H += (x_t.T @ x_t) * sigmoid(x_t @ theta_bar.reshape(-1,1)) * (1-sigmoid(x_t @ theta_bar.reshape(-1,1)))\n",
    "        history_x = np.concatenate([history_x,x_t], axis=0)\n",
    "        y.append(np.random.binomial(1,mus[x_idx],1).item())\n",
    "        cum_regret(record, mu_1, mus[x_idx])\n",
    "        if i % (0.1*horizon) == 0:\n",
    "            cur_time = time.time()\n",
    "            print(f'step {i}!, {cur_time-last_time}')\n",
    "            last_time = cur_time\n",
    "    return record"
   ]
  },
  {
   "cell_type": "code",
   "execution_count": 146,
   "metadata": {},
   "outputs": [
    {
     "name": "stdout",
     "output_type": "stream",
     "text": [
      "18.812057086353747\n",
      "16.270237646825766\n",
      "5.267476934863306\n",
      "dataset_generated! kappa=5.267202260685754\n"
     ]
    }
   ],
   "source": [
    "X, theta_star = generate_dataset(dim=5, max_arm=100)\n",
    "p = sigmoid(X@theta_star)\n",
    "crit = 1/(np.min(p*(1-p))+0.0000001) \n",
    "while (crit> 50000**(1/5)):\n",
    "    X, theta_star = generate_dataset(dim=5, max_arm=100)\n",
    "    p = sigmoid(X@theta_star)\n",
    "    crit = 1/(np.min(p*(1-p))+0.0000001) \n",
    "    print(crit)\n",
    "print(f'dataset_generated! kappa={1/(np.min(p*(1-p))+0.00001)}')"
   ]
  },
  {
   "cell_type": "code",
   "execution_count": 147,
   "metadata": {},
   "outputs": [
    {
     "data": {
      "text/plain": [
       "8.705505632961243"
      ]
     },
     "execution_count": 147,
     "metadata": {},
     "output_type": "execute_result"
    }
   ],
   "source": [
    "50000 ** (1/5)"
   ]
  },
  {
   "cell_type": "code",
   "execution_count": 148,
   "metadata": {},
   "outputs": [
    {
     "name": "stdout",
     "output_type": "stream",
     "text": [
      "step 0!, 0.0074422359466552734\n",
      "step 5000!, 28.278753995895386\n",
      "step 10000!, 59.11027383804321\n",
      "step 15000!, 84.95464205741882\n",
      "step 20000!, 114.57186102867126\n",
      "step 25000!, 139.37219309806824\n",
      "step 30000!, 169.83588480949402\n",
      "step 35000!, 198.8845820426941\n"
     ]
    },
    {
     "name": "stderr",
     "output_type": "stream",
     "text": [
      "/Users/liushuai/opt/anaconda3/lib/python3.8/site-packages/scipy/optimize/linesearch.py:327: LineSearchWarning: The line search algorithm did not converge\n",
      "  warn('The line search algorithm did not converge', LineSearchWarning)\n",
      "/Users/liushuai/opt/anaconda3/lib/python3.8/site-packages/sklearn/utils/optimize.py:195: UserWarning: Line Search failed\n",
      "  warnings.warn('Line Search failed')\n"
     ]
    },
    {
     "name": "stdout",
     "output_type": "stream",
     "text": [
      "step 40000!, 225.05761790275574\n",
      "step 45000!, 1268.3492541313171\n"
     ]
    }
   ],
   "source": [
    "regret = GLM_TSL_new(X, theta_star, dim=5,max_arm=100,horizon=50000,lam=1)"
   ]
  },
  {
   "cell_type": "code",
   "execution_count": null,
   "metadata": {},
   "outputs": [
    {
     "data": {
      "text/plain": [
       "10000"
      ]
     },
     "execution_count": 149,
     "metadata": {},
     "output_type": "execute_result"
    },
    {
     "data": {
      "image/png": "[encoded data removed]",
      "text/plain": [
       "<Figure size 1296x360 with 1 Axes>"
      ]
     },
     "metadata": {
      "needs_background": "light"
     },
     "output_type": "display_data"
    }
   ],
   "source": [
    "import matplotlib.pyplot as plt\n",
    "import seaborn as sns\n",
    "plt.figure(figsize=(18,5))\n",
    "sns.lineplot(x=range(len(regret)), y=regret)\n",
    "plt.ylim"
   ]
  },
  {
   "cell_type": "code",
   "execution_count": 1,
   "metadata": {},
   "outputs": [
    {
     "ename": "NameError",
     "evalue": "name 'regret' is not defined",
     "output_type": "error",
     "traceback": [
      "\u001b[0;31m---------------------------------------------------------------------------\u001b[0m",
      "\u001b[0;31mNameError\u001b[0m                                 Traceback (most recent call last)",
      "\u001b[0;32m<ipython-input-1-f995b85580f5>\u001b[0m in \u001b[0;36m<module>\u001b[0;34m\u001b[0m\n\u001b[0;32m----> 1\u001b[0;31m \u001b[0mregret\u001b[0m\u001b[0;34m\u001b[0m\u001b[0;34m\u001b[0m\u001b[0m\n\u001b[0m",
      "\u001b[0;31mNameError\u001b[0m: name 'regret' is not defined"
     ]
    }
   ],
   "source": [
    "regret"
   ]
  },
  {
   "cell_type": "code",
   "execution_count": null,
   "metadata": {},
   "outputs": [],
   "source": [
    "%%javascript\n",
    "IPython.notebook.save_notebook()"
   ]
  },
  {
   "cell_type": "code",
   "execution_count": null,
   "metadata": {},
   "outputs": [],
   "source": []
  }
 ],
 "metadata": {
  "kernelspec": {
   "display_name": "Python 3",
   "language": "python",
   "name": "python3"
  },
  "language_info": {
   "codemirror_mode": {
    "name": "ipython",
    "version": 3
   },
   "file_extension": ".py",
   "mimetype": "text/x-python",
   "name": "python",
   "nbconvert_exporter": "python",
   "pygments_lexer": "ipython3",
   "version": "3.9.1"
  }
 },
 "nbformat": 4,
 "nbformat_minor": 5
}
