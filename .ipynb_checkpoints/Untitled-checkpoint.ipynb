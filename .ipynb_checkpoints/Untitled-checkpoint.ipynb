{
 "cells": [
  {
   "cell_type": "code",
   "execution_count": 1,
   "metadata": {},
   "outputs": [],
   "source": [
    "import numpy as np\n",
    "import sklearn.linear_model as linear_model\n",
    "import time"
   ]
  },
  {
   "cell_type": "code",
   "execution_count": 2,
   "metadata": {},
   "outputs": [],
   "source": [
    "def elements(array):\n",
    "    return array.ndim and array.size"
   ]
  },
  {
   "cell_type": "code",
   "execution_count": 3,
   "metadata": {},
   "outputs": [],
   "source": [
    "def sigmoid(x):\n",
    "    return 1/(1+np.exp(-x))"
   ]
  },
  {
   "cell_type": "code",
   "execution_count": 4,
   "metadata": {},
   "outputs": [],
   "source": [
    "def generate_dataset(dim=5, max_arm=100):\n",
    "    theta_star = np.random.multivariate_normal(np.zeros(dim), 3/(dim)*np.eye(dim))\n",
    "    X=np.ones([max_arm, dim])\n",
    "    for i in range(max_arm):\n",
    "        X[i] = np.random.uniform(-1,1,dim)\n",
    "    return[X,theta_star]"
   ]
  },
  {
   "cell_type": "code",
   "execution_count": 5,
   "metadata": {},
   "outputs": [],
   "source": [
    "def solve_MLE(X,y,lam_inv=1):\n",
    "    model = linear_model.LogisticRegression(penalty='l2',C=lam_inv,fit_intercept=False,solver='newton-cg')\n",
    "    model.fit(X,y)\n",
    "    return model.coef_.reshape(-1)"
   ]
  },
  {
   "cell_type": "code",
   "execution_count": 6,
   "metadata": {},
   "outputs": [],
   "source": [
    "# get constants for new analysis\n",
    "def get_constant_new(theta_star, lam, step, dim, delta):\n",
    "    S = np.linalg.norm(theta_star)\n",
    "    L = 1/4\n",
    "    gamma1 = S + (1/2)\n",
    "    gamma1 = np.sqrt(lam) * gamma1\n",
    "    gamma2 = (L*step)/(dim*lam)\n",
    "    gamma2 = gamma2+1\n",
    "    gamma2 = gamma2 ** (dim/2)\n",
    "    gamma2 = gamma2 * (2 ** dim)/delta\n",
    "    gamma2 = np.log(gamma2)\n",
    "    gamma2 = gamma2 * 2 / np.sqrt(lam)\n",
    "    gamma = gamma1 + gamma2\n",
    "    return gamma * 1 / (1+2*S)"
   ]
  },
  {
   "cell_type": "code",
   "execution_count": 7,
   "metadata": {},
   "outputs": [],
   "source": [
    "# get constant for kveton analysis\n",
    "def get_constant(dim, step, mus, sigma=1):\n",
    "    # TODO: sigma\n",
    "    mu_dot = mus * (1-mus)\n",
    "    mu_dot_min = np.min(mu_dot)+0.00001\n",
    "    mu_dot_max = np.max(mu_dot)\n",
    "    c1 = np.log(step/dim)\n",
    "    c1 = dim * c1\n",
    "    c1 = c1 + 2*np.log(step)\n",
    "    c1 = np.sqrt(c1)\n",
    "    c1 = sigma * (1/mu_dot_min) * c1\n",
    "    a = c1 * np.sqrt(mu_dot_max)\n",
    "    K = len(mus)\n",
    "    c2 = 2 * (1/mu_dot_min) * mu_dot_max * np.log(K*step)\n",
    "    c2 = c1 * np.sqrt(c2)\n",
    "    return[a, c1, c2]"
   ]
  },
  {
   "cell_type": "code",
   "execution_count": 8,
   "metadata": {},
   "outputs": [],
   "source": [
    "def warm_up(theta_star,X,mus,lam, delta,horizon,new=True,sigma=1):\n",
    "    dim = len(theta_star)\n",
    "    theta_t = np.random.multivariate_normal(np.zeros(dim), 3/(dim ** 2)*np.eye(dim))\n",
    "    y = []\n",
    "    H = np.eye(dim) * lam\n",
    "    history_x = np.array([])\n",
    "    step = 1\n",
    "    mu_bar = sigmoid(X@theta_t)\n",
    "    mu_bar_dot = mu_bar * (1-mu_bar)\n",
    "    mu_bar_dot_min = np.min(mu_bar_dot)\n",
    "    mu_bar_dot_max = np.max(mu_bar_dot)\n",
    "    a = get_constant_new(theta_star, lam, step, len(theta_t), delta)\n",
    "    while(len(np.unique(y))<2):\n",
    "        step += 1\n",
    "        theta_tilde = np.random.multivariate_normal(theta_t, (a**2)*np.linalg.inv(H))\n",
    "        arm_pulled_idx = np.argmax(X @ theta_tilde)\n",
    "        arm_pulled = X[arm_pulled_idx].reshape(1,-1)# row vector\n",
    "        if elements(history_x) == 0:\n",
    "            history_x = arm_pulled\n",
    "        else:\n",
    "            history_x = np.concatenate([history_x,arm_pulled], axis=0)\n",
    "        H += (arm_pulled.T @ arm_pulled)\n",
    "        y.append(np.random.binomial(1,mus[arm_pulled_idx],1).item())\n",
    "        if new:\n",
    "            a = get_constant_new(theta_star, lam, step, dim, delta)\n",
    "        else:\n",
    "            mu_bar = sigmoid(X@theta_tilde).reshape(1,-1)\n",
    "            a,_,_ = get_constant(dim, horizon, mu_bar)\n",
    "            \n",
    "    return[history_x, y, H]"
   ]
  },
  {
   "cell_type": "code",
   "execution_count": 9,
   "metadata": {},
   "outputs": [],
   "source": [
    "def cum_regret(record, mu_1, mu):\n",
    "    record.append(record[-1]+mu_1-mu)"
   ]
  },
  {
   "cell_type": "code",
   "execution_count": 10,
   "metadata": {},
   "outputs": [],
   "source": [
    "def GLM_TSL_new(X, theta_star, dim=5,max_arm=100,horizon=50000,lam=1, new=True):\n",
    "    mus = sigmoid(X@theta_star)\n",
    "    mu_1 = np.max(mus)\n",
    "    history_x,y,H = warm_up(theta_star, X, mus, 2*lam, 1/horizon,horizon, new=new)\n",
    "    offset = len(y) # calculate the constant\n",
    "    record = [0]\n",
    "    last_time = time.time()\n",
    "    for i in range(horizon):\n",
    "        theta_bar = solve_MLE(history_x, y, 1/lam)\n",
    "        if new:\n",
    "            a = get_constant_new(theta_star, 2*lam, i+offset+1, dim, 1/horizon)\n",
    "        else:\n",
    "            a,_,_ = get_constant(dim, horizon, sigmoid(X@theta_bar).reshape(1,-1))\n",
    "        theta_tilde = np.random.multivariate_normal(theta_bar, a ** 2 * np.linalg.inv(H))\n",
    "        x_idx = np.argmax(X@theta_tilde.reshape(-1,1))\n",
    "        x_t = X[x_idx].reshape(1,-1) #row vector\n",
    "        H += (x_t.T @ x_t) * sigmoid(x_t @ theta_bar.reshape(-1,1)) * (1-sigmoid(x_t @ theta_bar.reshape(-1,1)))\n",
    "        history_x = np.concatenate([history_x,x_t], axis=0)\n",
    "        y.append(np.random.binomial(1,mus[x_idx],1).item())\n",
    "        cum_regret(record, mu_1, mus[x_idx])\n",
    "        if i % (0.1*horizon) == 0:\n",
    "            cur_time = time.time()\n",
    "            print(f'step {i}!, {cur_time-last_time}')\n",
    "            last_time = cur_time\n",
    "    return record"
   ]
  },
  {
   "cell_type": "code",
   "execution_count": 11,
   "metadata": {},
   "outputs": [
    {
     "name": "stdout",
     "output_type": "stream",
     "text": [
      "5.201174489694908\n",
      "dataset_generated! kappa=5.200906686545412\n"
     ]
    }
   ],
   "source": [
    "X, theta_star = generate_dataset(dim=5, max_arm=100)\n",
    "p = sigmoid(X@theta_star)\n",
    "crit = 1/(np.min(p*(1-p))+0.0000001) \n",
    "while (crit> 50000**(1/5)):\n",
    "    X, theta_star = generate_dataset(dim=5, max_arm=100)\n",
    "    p = sigmoid(X@theta_star)\n",
    "    crit = 1/(np.min(p*(1-p))+0.0000001) \n",
    "    print(crit)\n",
    "print(f'dataset_generated! kappa={1/(np.min(p*(1-p))+0.00001)}')"
   ]
  },
  {
   "cell_type": "code",
   "execution_count": 34,
   "metadata": {},
   "outputs": [
    {
     "name": "stdout",
     "output_type": "stream",
     "text": [
      "step 0!, 0.015324831008911133\n",
      "step 5!, 0.03219199180603027\n",
      "step 10!, 0.018848180770874023\n",
      "step 15!, 0.01674485206604004\n",
      "step 20!, 0.015195131301879883\n",
      "step 25!, 0.01743006706237793\n",
      "step 30!, 0.015545845031738281\n",
      "step 35!, 0.014670133590698242\n",
      "step 40!, 0.014800786972045898\n",
      "step 45!, 0.015484333038330078\n",
      "step 0!, 0.0019328594207763672\n",
      "step 5!, 0.011219024658203125\n",
      "step 10!, 0.013213872909545898\n"
     ]
    },
    {
     "name": "stderr",
     "output_type": "stream",
     "text": [
      "<ipython-input-3-3cbdbdecc9c7>:2: RuntimeWarning: overflow encountered in exp\n",
      "  return 1/(1+np.exp(-x))\n"
     ]
    },
    {
     "name": "stdout",
     "output_type": "stream",
     "text": [
      "step 15!, 0.10732316970825195\n",
      "step 20!, 0.08434319496154785\n",
      "step 25!, 0.0740957260131836\n",
      "step 30!, 0.07759523391723633\n",
      "step 35!, 0.07520103454589844\n",
      "step 40!, 0.07213902473449707\n",
      "step 45!, 0.07329988479614258\n",
      "step 0!, 0.012070894241333008\n",
      "step 5!, 0.048023223876953125\n",
      "step 10!, 0.03725576400756836\n",
      "step 15!, 0.059922218322753906\n",
      "step 20!, 0.030955076217651367\n",
      "step 25!, 0.026468753814697266\n",
      "step 30!, 0.017388105392456055\n",
      "step 35!, 0.01808309555053711\n",
      "step 40!, 0.050230979919433594\n",
      "step 45!, 0.04635190963745117\n"
     ]
    },
    {
     "name": "stderr",
     "output_type": "stream",
     "text": [
      "<ipython-input-3-3cbdbdecc9c7>:2: RuntimeWarning: overflow encountered in exp\n",
      "  return 1/(1+np.exp(-x))\n"
     ]
    },
    {
     "name": "stdout",
     "output_type": "stream",
     "text": [
      "step 0!, 0.004354000091552734\n",
      "step 5!, 0.030820131301879883\n",
      "step 10!, 0.021853923797607422\n",
      "step 15!, 0.023279190063476562\n",
      "step 20!, 0.014163017272949219\n",
      "step 25!, 0.01473093032836914\n",
      "step 30!, 0.016257762908935547\n",
      "step 35!, 0.0148773193359375\n",
      "step 40!, 0.016234874725341797\n",
      "step 45!, 0.018316030502319336\n",
      "step 0!, 0.00189208984375\n",
      "step 5!, 0.016379117965698242\n",
      "step 10!, 0.020949125289916992\n",
      "step 15!, 0.016072750091552734\n",
      "step 20!, 0.013624906539916992\n",
      "step 25!, 0.011935949325561523\n",
      "step 30!, 0.011617183685302734\n",
      "step 35!, 0.012246847152709961\n",
      "step 40!, 0.012530088424682617\n",
      "step 45!, 0.013396978378295898\n",
      "step 0!, 0.0024750232696533203\n",
      "step 5!, 0.012317895889282227\n",
      "step 10!, 0.011471033096313477\n",
      "step 15!, 0.014163970947265625\n",
      "step 20!, 0.014580011367797852\n",
      "step 25!, 0.014097929000854492\n"
     ]
    },
    {
     "name": "stderr",
     "output_type": "stream",
     "text": [
      "<ipython-input-3-3cbdbdecc9c7>:2: RuntimeWarning: overflow encountered in exp\n",
      "  return 1/(1+np.exp(-x))\n"
     ]
    },
    {
     "name": "stdout",
     "output_type": "stream",
     "text": [
      "step 30!, 0.015322208404541016\n",
      "step 35!, 0.016793012619018555\n",
      "step 40!, 0.014889001846313477\n",
      "step 45!, 0.01621389389038086\n",
      "step 0!, 0.0016810894012451172\n",
      "step 5!, 0.011648178100585938\n",
      "step 10!, 0.01198577880859375\n",
      "step 15!, 0.013812065124511719\n",
      "step 20!, 0.013670921325683594\n",
      "step 25!, 0.018484115600585938\n",
      "step 30!, 0.014906883239746094\n",
      "step 35!, 0.019114017486572266\n",
      "step 40!, 0.016499996185302734\n",
      "step 45!, 0.018527984619140625\n",
      "step 0!, 0.0195159912109375\n",
      "step 5!, 0.1246039867401123\n",
      "step 10!, 0.07005620002746582\n",
      "step 15!, 0.087371826171875\n",
      "step 20!, 0.07075905799865723\n",
      "step 25!, 0.06266379356384277\n",
      "step 30!, 0.04764699935913086\n",
      "step 35!, 0.07059621810913086\n",
      "step 40!, 0.08557796478271484\n",
      "step 45!, 0.09989094734191895\n",
      "step 0!, 0.0037398338317871094\n",
      "step 5!, 0.03250312805175781\n",
      "step 10!, 0.020364999771118164\n",
      "step 15!, 0.018459796905517578\n",
      "step 20!, 0.015918254852294922\n",
      "step 25!, 0.16466784477233887\n",
      "step 30!, 0.08315110206604004\n",
      "step 35!, 0.0966329574584961\n",
      "step 40!, 0.09859418869018555\n",
      "step 45!, 0.12369990348815918\n"
     ]
    },
    {
     "name": "stderr",
     "output_type": "stream",
     "text": [
      "<ipython-input-3-3cbdbdecc9c7>:2: RuntimeWarning: overflow encountered in exp\n",
      "  return 1/(1+np.exp(-x))\n"
     ]
    },
    {
     "name": "stdout",
     "output_type": "stream",
     "text": [
      "step 0!, 0.012543916702270508\n",
      "step 5!, 0.07806181907653809\n",
      "step 10!, 0.03275918960571289\n",
      "step 15!, 0.04587697982788086\n",
      "step 20!, 0.04869794845581055\n",
      "step 25!, 0.0677499771118164\n",
      "step 30!, 0.20655608177185059\n",
      "step 35!, 0.08511996269226074\n",
      "step 40!, 0.08655977249145508\n",
      "step 45!, 0.07738804817199707\n"
     ]
    }
   ],
   "source": [
    "regrets_new = []\n",
    "regrets_old = []\n",
    "horizon = 50000\n",
    "X, theta_star = generate_dataset(dim=5, max_arm=100)\n",
    "p = sigmoid(X@theta_star)\n",
    "for i in range(5):\n",
    "    X, theta_star = generate_dataset(dim=5, max_arm=100)\n",
    "    p = sigmoid(X@theta_star)\n",
    "    crit = 1/(np.min(p*(1-p))+0.0000001) \n",
    "    theta_star_copy = theta_star.copy()\n",
    "    regret = GLM_TSL_new(X, theta_star, dim=5,max_arm=100,horizon=horizon,lam=1, new=True)\n",
    "    regrets_new.append(regret)\n",
    "    regret = GLM_TSL_new(X, theta_star_copy, dim=5,max_arm=100,horizon=horizon,lam=1, new=False)\n",
    "    regrets_old.append(regret)"
   ]
  },
  {
   "cell_type": "code",
   "execution_count": 30,
   "metadata": {},
   "outputs": [],
   "source": [
    "regrets_new = np.array(regrets_new)\n",
    "np.save('./regrets_new.npy', regrets_new)\n",
    "regrets_old = np.array(regrets_old)\n",
    "np.save('./regrets_old.npy', regrets_old)"
   ]
  },
  {
   "cell_type": "code",
   "execution_count": 31,
   "metadata": {},
   "outputs": [
    {
     "data": {
      "text/plain": [
       "(501,)"
      ]
     },
     "execution_count": 31,
     "metadata": {},
     "output_type": "execute_result"
    }
   ],
   "source": [
    "regrets_new_mean = regrets_new.mean(axis=0)\n",
    "regrets_new_mean.shape\n",
    "regrets_old_mean = regrets_old.mean(axis=0)\n",
    "regrets_old_mean.shape"
   ]
  },
  {
   "cell_type": "code",
   "execution_count": 32,
   "metadata": {},
   "outputs": [
    {
     "data": {
      "text/plain": [
       "<matplotlib.legend.Legend at 0x12973a6a0>"
      ]
     },
     "execution_count": 32,
     "metadata": {},
     "output_type": "execute_result"
    },
    {
     "data": {
      "image/png": "[encoded data removed]",
      "text/plain": [
       "<Figure size 1296x360 with 1 Axes>"
      ]
     },
     "metadata": {
      "needs_background": "light"
     },
     "output_type": "display_data"
    }
   ],
   "source": [
    "import matplotlib.pyplot as plt\n",
    "import seaborn as sns\n",
    "plt.figure(figsize=(18,5))\n",
    "plt.plot(range(len(regrets_new_mean)), regrets_new_mean, label='New Analysis')\n",
    "plt.plot(range(len(regrets_old_mean)), regrets_old_mean, label='Kveton et.al')\n",
    "plt.legend()"
   ]
  },
  {
   "cell_type": "code",
   "execution_count": 33,
   "metadata": {},
   "outputs": [
    {
     "name": "stdout",
     "output_type": "stream",
     "text": [
      "83.27868577412366\n"
     ]
    },
    {
     "data": {
      "text/plain": [
       "169.7328028375927"
      ]
     },
     "execution_count": 33,
     "metadata": {},
     "output_type": "execute_result"
    }
   ],
   "source": [
    "print(regrets_new_mean[-1])\n",
    "regrets_old_mean[-1]"
   ]
  },
  {
   "cell_type": "code",
   "execution_count": 18,
   "metadata": {},
   "outputs": [
    {
     "data": {
      "application/javascript": [
       "IPython.notebook.save_notebook()\n"
      ],
      "text/plain": [
       "<IPython.core.display.Javascript object>"
      ]
     },
     "metadata": {},
     "output_type": "display_data"
    }
   ],
   "source": [
    "%%javascript\n",
    "IPython.notebook.save_notebook()"
   ]
  },
  {
   "cell_type": "code",
   "execution_count": null,
   "metadata": {},
   "outputs": [],
   "source": []
  }
 ],
 "metadata": {
  "kernelspec": {
   "display_name": "Python 3",
   "language": "python",
   "name": "python3"
  },
  "language_info": {
   "codemirror_mode": {
    "name": "ipython",
    "version": 3
   },
   "file_extension": ".py",
   "mimetype": "text/x-python",
   "name": "python",
   "nbconvert_exporter": "python",
   "pygments_lexer": "ipython3",
   "version": "3.9.1"
  }
 },
 "nbformat": 4,
 "nbformat_minor": 5
}
